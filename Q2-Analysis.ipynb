{
 "cells": [
  {
   "cell_type": "code",
   "execution_count": 11,
   "metadata": {},
   "outputs": [
    {
     "name": "stdout",
     "output_type": "stream",
     "text": [
      "3\n",
      "3\n",
      "3\n"
     ]
    }
   ],
   "source": [
    "list = [1,3,3,3,4,5]\n",
    "for x in list:\n",
    "    if x == 3:\n",
    "        print(x)"
   ]
  },
  {
   "cell_type": "code",
   "execution_count": 1,
   "metadata": {},
   "outputs": [],
   "source": [
    "import numpy as np\n",
    "import pandas as pd \n",
    "import matplotlib.pyplot as plt\n",
    "import matplotlib.dates as mdates\n",
    "%matplotlib inline \n",
    "import seaborn as sns\n",
    "import datetime\n",
    "import scipy.stats as stats"
   ]
  },
  {
   "cell_type": "markdown",
   "metadata": {},
   "source": [
    "### Load data"
   ]
  },
  {
   "cell_type": "code",
   "execution_count": 2,
   "metadata": {},
   "outputs": [],
   "source": [
    "geolocation= pd.read_csv (r'C:\\Users\\user pc\\Downloads\\ecommerce\\geolocation_dataset.csv')\n",
    "items= pd.read_csv (r'C:\\Users\\user pc\\Downloads\\ecommerce\\items_dataset.csv')\n",
    "order_payments= pd.read_csv (r'C:\\Users\\user pc\\Downloads\\ecommerce\\order_payments_dataset.csv')\n",
    "order_reviews= pd.read_csv (r'C:\\Users\\user pc\\Downloads\\ecommerce\\order_reviews_dataset.csv')\n",
    "orders= pd.read_csv (r'C:\\Users\\user pc\\Downloads\\ecommerce\\orders_dataset.csv')\n",
    "product_category_name_translation = pd.read_csv(r'C:\\Users\\user pc\\Downloads\\ecommerce\\product_category_name_translation.csv')\n",
    "products = pd.read_csv(r'C:\\Users\\user pc\\Downloads\\ecommerce\\products_dataset.csv')\n",
    "sellers = pd.read_csv(r'C:\\Users\\user pc\\Downloads\\ecommerce\\sellers_dataset.csv')"
   ]
  },
  {
   "cell_type": "code",
   "execution_count": 35,
   "metadata": {},
   "outputs": [
    {
     "data": {
      "text/html": [
       "<div>\n",
       "<style scoped>\n",
       "    .dataframe tbody tr th:only-of-type {\n",
       "        vertical-align: middle;\n",
       "    }\n",
       "\n",
       "    .dataframe tbody tr th {\n",
       "        vertical-align: top;\n",
       "    }\n",
       "\n",
       "    .dataframe thead th {\n",
       "        text-align: right;\n",
       "    }\n",
       "</style>\n",
       "<table border=\"1\" class=\"dataframe\">\n",
       "  <thead>\n",
       "    <tr style=\"text-align: right;\">\n",
       "      <th></th>\n",
       "      <th>order_id</th>\n",
       "      <th>customer_id</th>\n",
       "      <th>order_status</th>\n",
       "      <th>order_purchase_timestamp</th>\n",
       "      <th>order_approved_at</th>\n",
       "      <th>order_delivered_carrier_date</th>\n",
       "      <th>order_delivered_customer_date</th>\n",
       "      <th>order_estimated_delivery_date</th>\n",
       "    </tr>\n",
       "  </thead>\n",
       "  <tbody>\n",
       "    <tr>\n",
       "      <th>count</th>\n",
       "      <td>99441</td>\n",
       "      <td>99441</td>\n",
       "      <td>99441</td>\n",
       "      <td>99441</td>\n",
       "      <td>99281</td>\n",
       "      <td>97658</td>\n",
       "      <td>96476</td>\n",
       "      <td>99441</td>\n",
       "    </tr>\n",
       "    <tr>\n",
       "      <th>unique</th>\n",
       "      <td>99441</td>\n",
       "      <td>99441</td>\n",
       "      <td>8</td>\n",
       "      <td>98875</td>\n",
       "      <td>90733</td>\n",
       "      <td>81018</td>\n",
       "      <td>95664</td>\n",
       "      <td>459</td>\n",
       "    </tr>\n",
       "    <tr>\n",
       "      <th>top</th>\n",
       "      <td>f4c87e038db78ef275deab58f19e5bd2</td>\n",
       "      <td>89a7fcf7fc62e96cd8a92de58f8d035c</td>\n",
       "      <td>delivered</td>\n",
       "      <td>2018-08-02 12:06:09</td>\n",
       "      <td>2018-02-27 04:31:10</td>\n",
       "      <td>2018-05-09 15:48:00</td>\n",
       "      <td>2016-10-27 17:32:07</td>\n",
       "      <td>2017-12-20 00:00:00</td>\n",
       "    </tr>\n",
       "    <tr>\n",
       "      <th>freq</th>\n",
       "      <td>1</td>\n",
       "      <td>1</td>\n",
       "      <td>96478</td>\n",
       "      <td>3</td>\n",
       "      <td>9</td>\n",
       "      <td>47</td>\n",
       "      <td>3</td>\n",
       "      <td>522</td>\n",
       "    </tr>\n",
       "  </tbody>\n",
       "</table>\n",
       "</div>"
      ],
      "text/plain": [
       "                                order_id                       customer_id  \\\n",
       "count                              99441                             99441   \n",
       "unique                             99441                             99441   \n",
       "top     f4c87e038db78ef275deab58f19e5bd2  89a7fcf7fc62e96cd8a92de58f8d035c   \n",
       "freq                                   1                                 1   \n",
       "\n",
       "       order_status order_purchase_timestamp    order_approved_at  \\\n",
       "count         99441                    99441                99281   \n",
       "unique            8                    98875                90733   \n",
       "top       delivered      2018-08-02 12:06:09  2018-02-27 04:31:10   \n",
       "freq          96478                        3                    9   \n",
       "\n",
       "       order_delivered_carrier_date order_delivered_customer_date  \\\n",
       "count                         97658                         96476   \n",
       "unique                        81018                         95664   \n",
       "top             2018-05-09 15:48:00           2016-10-27 17:32:07   \n",
       "freq                             47                             3   \n",
       "\n",
       "       order_estimated_delivery_date  \n",
       "count                          99441  \n",
       "unique                           459  \n",
       "top              2017-12-20 00:00:00  \n",
       "freq                             522  "
      ]
     },
     "execution_count": 35,
     "metadata": {},
     "output_type": "execute_result"
    }
   ],
   "source": [
    "orders.describe()"
   ]
  },
  {
   "cell_type": "code",
   "execution_count": 34,
   "metadata": {},
   "outputs": [
    {
     "data": {
      "text/html": [
       "<div>\n",
       "<style scoped>\n",
       "    .dataframe tbody tr th:only-of-type {\n",
       "        vertical-align: middle;\n",
       "    }\n",
       "\n",
       "    .dataframe tbody tr th {\n",
       "        vertical-align: top;\n",
       "    }\n",
       "\n",
       "    .dataframe thead th {\n",
       "        text-align: right;\n",
       "    }\n",
       "</style>\n",
       "<table border=\"1\" class=\"dataframe\">\n",
       "  <thead>\n",
       "    <tr style=\"text-align: right;\">\n",
       "      <th></th>\n",
       "      <th>order_item_id</th>\n",
       "      <th>price</th>\n",
       "      <th>freight_value</th>\n",
       "    </tr>\n",
       "  </thead>\n",
       "  <tbody>\n",
       "    <tr>\n",
       "      <th>count</th>\n",
       "      <td>112650.000000</td>\n",
       "      <td>112650.000000</td>\n",
       "      <td>112650.000000</td>\n",
       "    </tr>\n",
       "    <tr>\n",
       "      <th>mean</th>\n",
       "      <td>1.197834</td>\n",
       "      <td>120.653739</td>\n",
       "      <td>19.990320</td>\n",
       "    </tr>\n",
       "    <tr>\n",
       "      <th>std</th>\n",
       "      <td>0.705124</td>\n",
       "      <td>183.633928</td>\n",
       "      <td>15.806405</td>\n",
       "    </tr>\n",
       "    <tr>\n",
       "      <th>min</th>\n",
       "      <td>1.000000</td>\n",
       "      <td>0.850000</td>\n",
       "      <td>0.000000</td>\n",
       "    </tr>\n",
       "    <tr>\n",
       "      <th>25%</th>\n",
       "      <td>1.000000</td>\n",
       "      <td>39.900000</td>\n",
       "      <td>13.080000</td>\n",
       "    </tr>\n",
       "    <tr>\n",
       "      <th>50%</th>\n",
       "      <td>1.000000</td>\n",
       "      <td>74.990000</td>\n",
       "      <td>16.260000</td>\n",
       "    </tr>\n",
       "    <tr>\n",
       "      <th>75%</th>\n",
       "      <td>1.000000</td>\n",
       "      <td>134.900000</td>\n",
       "      <td>21.150000</td>\n",
       "    </tr>\n",
       "    <tr>\n",
       "      <th>max</th>\n",
       "      <td>21.000000</td>\n",
       "      <td>6735.000000</td>\n",
       "      <td>409.680000</td>\n",
       "    </tr>\n",
       "  </tbody>\n",
       "</table>\n",
       "</div>"
      ],
      "text/plain": [
       "       order_item_id          price  freight_value\n",
       "count  112650.000000  112650.000000  112650.000000\n",
       "mean        1.197834     120.653739      19.990320\n",
       "std         0.705124     183.633928      15.806405\n",
       "min         1.000000       0.850000       0.000000\n",
       "25%         1.000000      39.900000      13.080000\n",
       "50%         1.000000      74.990000      16.260000\n",
       "75%         1.000000     134.900000      21.150000\n",
       "max        21.000000    6735.000000     409.680000"
      ]
     },
     "execution_count": 34,
     "metadata": {},
     "output_type": "execute_result"
    }
   ],
   "source": [
    "items.describe()\n",
    "## Average price of the items = 120.653"
   ]
  },
  {
   "cell_type": "code",
   "execution_count": 21,
   "metadata": {},
   "outputs": [
    {
     "data": {
      "text/html": [
       "<div>\n",
       "<style scoped>\n",
       "    .dataframe tbody tr th:only-of-type {\n",
       "        vertical-align: middle;\n",
       "    }\n",
       "\n",
       "    .dataframe tbody tr th {\n",
       "        vertical-align: top;\n",
       "    }\n",
       "\n",
       "    .dataframe thead th {\n",
       "        text-align: right;\n",
       "    }\n",
       "</style>\n",
       "<table border=\"1\" class=\"dataframe\">\n",
       "  <thead>\n",
       "    <tr style=\"text-align: right;\">\n",
       "      <th></th>\n",
       "      <th>product_name_lenght</th>\n",
       "      <th>product_description_lenght</th>\n",
       "      <th>product_photos_qty</th>\n",
       "      <th>product_weight_g</th>\n",
       "      <th>product_length_cm</th>\n",
       "      <th>product_height_cm</th>\n",
       "      <th>product_width_cm</th>\n",
       "    </tr>\n",
       "  </thead>\n",
       "  <tbody>\n",
       "    <tr>\n",
       "      <th>count</th>\n",
       "      <td>32341.000000</td>\n",
       "      <td>32341.000000</td>\n",
       "      <td>32341.000000</td>\n",
       "      <td>32949.000000</td>\n",
       "      <td>32949.000000</td>\n",
       "      <td>32949.000000</td>\n",
       "      <td>32949.000000</td>\n",
       "    </tr>\n",
       "    <tr>\n",
       "      <th>mean</th>\n",
       "      <td>48.476949</td>\n",
       "      <td>771.495285</td>\n",
       "      <td>2.188986</td>\n",
       "      <td>2276.472488</td>\n",
       "      <td>30.815078</td>\n",
       "      <td>16.937661</td>\n",
       "      <td>23.196728</td>\n",
       "    </tr>\n",
       "    <tr>\n",
       "      <th>std</th>\n",
       "      <td>10.245741</td>\n",
       "      <td>635.115225</td>\n",
       "      <td>1.736766</td>\n",
       "      <td>4282.038731</td>\n",
       "      <td>16.914458</td>\n",
       "      <td>13.637554</td>\n",
       "      <td>12.079047</td>\n",
       "    </tr>\n",
       "    <tr>\n",
       "      <th>min</th>\n",
       "      <td>5.000000</td>\n",
       "      <td>4.000000</td>\n",
       "      <td>1.000000</td>\n",
       "      <td>0.000000</td>\n",
       "      <td>7.000000</td>\n",
       "      <td>2.000000</td>\n",
       "      <td>6.000000</td>\n",
       "    </tr>\n",
       "    <tr>\n",
       "      <th>25%</th>\n",
       "      <td>42.000000</td>\n",
       "      <td>339.000000</td>\n",
       "      <td>1.000000</td>\n",
       "      <td>300.000000</td>\n",
       "      <td>18.000000</td>\n",
       "      <td>8.000000</td>\n",
       "      <td>15.000000</td>\n",
       "    </tr>\n",
       "    <tr>\n",
       "      <th>50%</th>\n",
       "      <td>51.000000</td>\n",
       "      <td>595.000000</td>\n",
       "      <td>1.000000</td>\n",
       "      <td>700.000000</td>\n",
       "      <td>25.000000</td>\n",
       "      <td>13.000000</td>\n",
       "      <td>20.000000</td>\n",
       "    </tr>\n",
       "    <tr>\n",
       "      <th>75%</th>\n",
       "      <td>57.000000</td>\n",
       "      <td>972.000000</td>\n",
       "      <td>3.000000</td>\n",
       "      <td>1900.000000</td>\n",
       "      <td>38.000000</td>\n",
       "      <td>21.000000</td>\n",
       "      <td>30.000000</td>\n",
       "    </tr>\n",
       "    <tr>\n",
       "      <th>max</th>\n",
       "      <td>76.000000</td>\n",
       "      <td>3992.000000</td>\n",
       "      <td>20.000000</td>\n",
       "      <td>40425.000000</td>\n",
       "      <td>105.000000</td>\n",
       "      <td>105.000000</td>\n",
       "      <td>118.000000</td>\n",
       "    </tr>\n",
       "  </tbody>\n",
       "</table>\n",
       "</div>"
      ],
      "text/plain": [
       "       product_name_lenght  product_description_lenght  product_photos_qty  \\\n",
       "count         32341.000000                32341.000000        32341.000000   \n",
       "mean             48.476949                  771.495285            2.188986   \n",
       "std              10.245741                  635.115225            1.736766   \n",
       "min               5.000000                    4.000000            1.000000   \n",
       "25%              42.000000                  339.000000            1.000000   \n",
       "50%              51.000000                  595.000000            1.000000   \n",
       "75%              57.000000                  972.000000            3.000000   \n",
       "max              76.000000                 3992.000000           20.000000   \n",
       "\n",
       "       product_weight_g  product_length_cm  product_height_cm  \\\n",
       "count      32949.000000       32949.000000       32949.000000   \n",
       "mean        2276.472488          30.815078          16.937661   \n",
       "std         4282.038731          16.914458          13.637554   \n",
       "min            0.000000           7.000000           2.000000   \n",
       "25%          300.000000          18.000000           8.000000   \n",
       "50%          700.000000          25.000000          13.000000   \n",
       "75%         1900.000000          38.000000          21.000000   \n",
       "max        40425.000000         105.000000         105.000000   \n",
       "\n",
       "       product_width_cm  \n",
       "count      32949.000000  \n",
       "mean          23.196728  \n",
       "std           12.079047  \n",
       "min            6.000000  \n",
       "25%           15.000000  \n",
       "50%           20.000000  \n",
       "75%           30.000000  \n",
       "max          118.000000  "
      ]
     },
     "execution_count": 21,
     "metadata": {},
     "output_type": "execute_result"
    }
   ],
   "source": [
    "products.describe()"
   ]
  },
  {
   "cell_type": "code",
   "execution_count": 18,
   "metadata": {},
   "outputs": [
    {
     "data": {
      "text/plain": [
       "delivered      96478\n",
       "shipped         1107\n",
       "canceled         625\n",
       "unavailable      609\n",
       "invoiced         314\n",
       "processing       301\n",
       "created            5\n",
       "approved           2\n",
       "Name: order_status, dtype: int64"
      ]
     },
     "execution_count": 18,
     "metadata": {},
     "output_type": "execute_result"
    }
   ],
   "source": [
    "new_items= items.drop_duplicates(['order_id'])\n",
    "orders['order_status'].value_counts()"
   ]
  },
  {
   "cell_type": "code",
   "execution_count": 4,
   "metadata": {},
   "outputs": [
    {
     "data": {
      "text/html": [
       "<div>\n",
       "<style scoped>\n",
       "    .dataframe tbody tr th:only-of-type {\n",
       "        vertical-align: middle;\n",
       "    }\n",
       "\n",
       "    .dataframe tbody tr th {\n",
       "        vertical-align: top;\n",
       "    }\n",
       "\n",
       "    .dataframe thead th {\n",
       "        text-align: right;\n",
       "    }\n",
       "</style>\n",
       "<table border=\"1\" class=\"dataframe\">\n",
       "  <thead>\n",
       "    <tr style=\"text-align: right;\">\n",
       "      <th></th>\n",
       "      <th>order_id</th>\n",
       "      <th>customer_id</th>\n",
       "      <th>order_status</th>\n",
       "      <th>order_purchase_timestamp</th>\n",
       "      <th>order_approved_at</th>\n",
       "      <th>order_delivered_carrier_date</th>\n",
       "      <th>order_delivered_customer_date</th>\n",
       "      <th>order_estimated_delivery_date</th>\n",
       "    </tr>\n",
       "  </thead>\n",
       "  <tbody>\n",
       "    <tr>\n",
       "      <th>count</th>\n",
       "      <td>99441</td>\n",
       "      <td>99441</td>\n",
       "      <td>99441</td>\n",
       "      <td>99441</td>\n",
       "      <td>99281</td>\n",
       "      <td>97658</td>\n",
       "      <td>96476</td>\n",
       "      <td>99441</td>\n",
       "    </tr>\n",
       "    <tr>\n",
       "      <th>unique</th>\n",
       "      <td>99441</td>\n",
       "      <td>99441</td>\n",
       "      <td>8</td>\n",
       "      <td>98875</td>\n",
       "      <td>90733</td>\n",
       "      <td>81018</td>\n",
       "      <td>95664</td>\n",
       "      <td>459</td>\n",
       "    </tr>\n",
       "    <tr>\n",
       "      <th>top</th>\n",
       "      <td>f4c87e038db78ef275deab58f19e5bd2</td>\n",
       "      <td>89a7fcf7fc62e96cd8a92de58f8d035c</td>\n",
       "      <td>delivered</td>\n",
       "      <td>2018-08-02 12:06:09</td>\n",
       "      <td>2018-02-27 04:31:10</td>\n",
       "      <td>2018-05-09 15:48:00</td>\n",
       "      <td>2016-10-27 17:32:07</td>\n",
       "      <td>2017-12-20 00:00:00</td>\n",
       "    </tr>\n",
       "    <tr>\n",
       "      <th>freq</th>\n",
       "      <td>1</td>\n",
       "      <td>1</td>\n",
       "      <td>96478</td>\n",
       "      <td>3</td>\n",
       "      <td>9</td>\n",
       "      <td>47</td>\n",
       "      <td>3</td>\n",
       "      <td>522</td>\n",
       "    </tr>\n",
       "  </tbody>\n",
       "</table>\n",
       "</div>"
      ],
      "text/plain": [
       "                                order_id                       customer_id  \\\n",
       "count                              99441                             99441   \n",
       "unique                             99441                             99441   \n",
       "top     f4c87e038db78ef275deab58f19e5bd2  89a7fcf7fc62e96cd8a92de58f8d035c   \n",
       "freq                                   1                                 1   \n",
       "\n",
       "       order_status order_purchase_timestamp    order_approved_at  \\\n",
       "count         99441                    99441                99281   \n",
       "unique            8                    98875                90733   \n",
       "top       delivered      2018-08-02 12:06:09  2018-02-27 04:31:10   \n",
       "freq          96478                        3                    9   \n",
       "\n",
       "       order_delivered_carrier_date order_delivered_customer_date  \\\n",
       "count                         97658                         96476   \n",
       "unique                        81018                         95664   \n",
       "top             2018-05-09 15:48:00           2016-10-27 17:32:07   \n",
       "freq                             47                             3   \n",
       "\n",
       "       order_estimated_delivery_date  \n",
       "count                          99441  \n",
       "unique                           459  \n",
       "top              2017-12-20 00:00:00  \n",
       "freq                             522  "
      ]
     },
     "execution_count": 4,
     "metadata": {},
     "output_type": "execute_result"
    }
   ],
   "source": [
    "orders.describe()"
   ]
  },
  {
   "cell_type": "code",
   "execution_count": 22,
   "metadata": {},
   "outputs": [
    {
     "name": "stdout",
     "output_type": "stream",
     "text": [
      "100000 reviews\n",
      "First: 2016-10-02 00:00:00\n",
      "Last: 2018-08-31 00:00:00\n",
      "5: 57.4%\n",
      "1: 11.9%\n",
      "Average: 4.1\n"
     ]
    }
   ],
   "source": [
    "p_5s = len(order_reviews[order_reviews['review_score'] == 5]) * 100 / len(order_reviews)\n",
    "p_1s = len(order_reviews[order_reviews['review_score'] == 1]) * 100 / len(order_reviews)\n",
    "first_dt = order_reviews['review_creation_date'].min()\n",
    "last_dt = order_reviews['review_creation_date'].max()\n",
    "avg_s = order_reviews['review_score'].mean()\n",
    "print(len(order_reviews), 'reviews')\n",
    "print('First:', first_dt)\n",
    "print('Last:', last_dt)\n",
    "print(f'5: {p_5s:.1f}%')\n",
    "print(f'1: {p_1s:.1f}%')\n",
    "print(f'Average: {avg_s:.1f}')"
   ]
  },
  {
   "cell_type": "markdown",
   "metadata": {},
   "source": [
    "#### Drop irrelevant columns and remove duplicates"
   ]
  },
  {
   "cell_type": "code",
   "execution_count": null,
   "metadata": {},
   "outputs": [],
   "source": [
    "## drop irrelevant columns\n",
    "new_order_reviews = del order_reviews['review_comment_message']\n",
    "new_order_reviews = del order_reviews['review_comment_title']\n",
    "\n",
    "## remove duplicates\n",
    "def getDuplicateColumns(orders):\n",
    "    duplicateColumnNames = set()\n",
    "    # Iterate over all the columns in dataframe\n",
    "    for x in range(dat.shape[1]):\n",
    "        # Select column at xth index.\n",
    "        col = orders.iloc[:, x]\n",
    "        # Iterate over all the columns in DataFrame from (x+1)th index till end\n",
    "        for y in range(x + 1, orders.shape[1]):\n",
    "            # Select column at yth index.\n",
    "            otherCol = orders.iloc[:, y]\n",
    "            # Check if two columns at x 7 y index are equal\n",
    "            if col.equals(otherCol):\n",
    "                duplicateColumnNames.add(dat.columns.values[y])\n",
    " \n",
    "    return list(duplicateColumnNames)"
   ]
  },
  {
   "cell_type": "markdown",
   "metadata": {},
   "source": [
    "#### This will create a relationship between the data"
   ]
  },
  {
   "cell_type": "code",
   "execution_count": null,
   "metadata": {},
   "outputs": [],
   "source": [
    "import pandas as pd\n",
    "import glob\n",
    "\n",
    "path = r'C:\\Users\\user pc\\Downloads\\ecommerce' # use your path\n",
    "all_files = glob.glob(path + \"/*.csv\")\n",
    "\n",
    "li = []\n",
    "\n",
    "for filename in all_files:\n",
    "    df = pd.read_csv(filename, index_col=None, header=0)\n",
    "    li.append(df)\n",
    "\n",
    "frame = pd.concat(li, axis=0, sort=False, ignore_index=True)"
   ]
  },
  {
   "cell_type": "code",
   "execution_count": null,
   "metadata": {},
   "outputs": [],
   "source": [
    "\n",
    "geolocation.head()\n",
    " # know the distrbution of payment values\n",
    "order_payments[\"payment_value\"].describe()\n",
    "\n",
    "len(sellers)==len(sellers['seller_id'].unique()) #make sure that the seller_id only contains unique values\n",
    "# Convert columns to datetime\n",
    "\n",
    "# using copy() methods\n",
    "orders_mod = orders.copy()\n",
    "orders['order_purchase_timestamp'] = pd.to_datetime(orders['order_purchase_timestamp'])\n",
    "orders['order_aproved_at'] = pd.to_datetime(orders['order_approved_at'])\n",
    "orders['order_estimated_delivery_date'] = pd.to_datetime(orders['order_estimated_delivery_date'])\n",
    "orders['order_delivered_customer_date'] = pd.to_datetime(orders['order_delivered_customer_date'])"
   ]
  },
  {
   "cell_type": "markdown",
   "metadata": {},
   "source": [
    "#### Check for missing values and data types"
   ]
  },
  {
   "cell_type": "code",
   "execution_count": null,
   "metadata": {},
   "outputs": [],
   "source": [
    "geolocation.isnull().sum()\n",
    "for i in range(len(geolocation.index)):\n",
    "    print(\"Nan in row \", i , \" : \" ,  geolocation.iloc[i].isnull().sum())\n",
    "\n",
    "order.isnull().sum()\n",
    "for i in range(len(order.index)):\n",
    "    print(\"Nan in row \", i , \" : \" , order.iloc[i].isnull().sum())\n",
    "    \n",
    "    geolocation.dtype\n",
    "    order_payments.dtype\n",
    "    order.dtype\n",
    "    products.dtype\n",
    "    sellers.dtype\n",
    "    products.dtype"
   ]
  },
  {
   "cell_type": "markdown",
   "metadata": {},
   "source": [
    "### Removing missing values\n",
    "### Remove empty column\n",
    "### Add column names to dataframe\n",
    "### What are the features?\n",
    "### What are the expected types (int, float, string, boolean)?\n",
    "#### Is there obvious missing data (values that Pandas can detect)?\n",
    "#### Is there other types of missing data that’s not so obvious (can’t easily detect with Pandas)?\n",
    "### Irrelevant column names\n",
    "### Outliers\n",
    "### Duplicates\n",
    "### Missing data\n",
    "### Columns that have to be processed\n",
    "### Unexpected data values"
   ]
  },
  {
   "cell_type": "markdown",
   "metadata": {},
   "source": [
    "#### Standazing the data"
   ]
  },
  {
   "cell_type": "code",
   "execution_count": null,
   "metadata": {},
   "outputs": [],
   "source": [
    "new_geolocation = geolocation.replace(to_replace = 'são paulo',\n",
    "                       value = 'sao paulo')\n",
    "new_geolocation\n",
    "orders.columns = [col.strip() for col in orders.columns]\n",
    "geolocation ['geolocation_city'].replace('são paulo', 'sao paulo', inplace=True)\n",
    "\n",
    "data = geolocation[geolocation['geolocation_city'].astype(str).str.isdigit()]"
   ]
  },
  {
   "cell_type": "markdown",
   "metadata": {},
   "source": [
    "### Analysis for orders"
   ]
  },
  {
   "cell_type": "code",
   "execution_count": null,
   "metadata": {},
   "outputs": [],
   "source": [
    "order_payments[\"payment_value\"].describe()"
   ]
  },
  {
   "cell_type": "code",
   "execution_count": null,
   "metadata": {},
   "outputs": [],
   "source": [
    "order_payments.head()"
   ]
  },
  {
   "cell_type": "code",
   "execution_count": null,
   "metadata": {},
   "outputs": [],
   "source": [
    "orders.head()"
   ]
  },
  {
   "cell_type": "code",
   "execution_count": null,
   "metadata": {},
   "outputs": [],
   "source": [
    "#orders.dtypes\n",
    "orders_mod = orders.copy()\n",
    "orders_mod[\"order_purchase_timestamp\"] = pd.to_datetime(orders[\"order_purchase_timestamp\"], format='%Y-%m-%d %H:%M:%S')\n",
    "orders_mod[\"order_delivered_carrier_date\"] = pd.to_datetime(orders[\"order_delivered_carrier_date\"], format='%Y-%m-%d %H:%M:%S')\n",
    "orders_mod[\"order_delivered_customer_date\"] = pd.to_datetime(orders[\"order_delivered_customer_date\"], format='%Y-%m-%d %H:%M:%S')\n",
    "orders_mod[\"order_estimated_delivery_date\"] = pd.to_datetime(orders[\"order_estimated_delivery_date\"], format='%Y-%m-%d %H:%M:%S')\n",
    "orders_mod.dtypes\n",
    "#new.head()"
   ]
  },
  {
   "cell_type": "code",
   "execution_count": null,
   "metadata": {},
   "outputs": [],
   "source": [
    "counts = orders_mod.set_index(\"order_purchase_timestamp\").groupby(pd.Grouper(freq='D')).count()\n",
    "fig = plt.figure(figsize=(16,8))\n",
    "ax = fig.gca()\n",
    "counts.plot(y = \"order_id\", use_index=True, ax=ax)"
   ]
  },
  {
   "cell_type": "code",
   "execution_count": null,
   "metadata": {},
   "outputs": [],
   "source": [
    "mean = order_payments[\"payment_value\"].mean()\n",
    "std =  order_payments[\"payment_value\"].std()\n",
    "skew =  order_payments[\"payment_value\"].skew()\n",
    "kurt =  order_payments[\"payment_value\"].kurtosis()\n",
    "\n",
    "text1 = '$\\mu=$' + str(round(mean,2))\n",
    "text2 = '$\\sigma=$' +str(round(std,2))\n",
    "text3 = '$skewness=$' + str(round(skew,2))\n",
    "text4 = '$kurtosis=$' + str(round(kurt,2))\n",
    "text = text1 + \"\\n\" + text2 + \"\\n\" + text3 + \"\\n\" + text4\n",
    "\n",
    "q95 =  order_payments[\"payment_value\"].quantile(.95)\n",
    "payments_q95 =  order_payments[ order_payments[\"payment_value\"]<q95]\n",
    "\n",
    "payments_q95.hist(column = \"payment_value\", bins = 100, figsize=(15,8), rwidth=0.9)\n",
    "plt.axvline(mean, color='k', linestyle='--')\n",
    "plt.text(mean+10, 2900, text, fontsize=12)\n",
    "plt.xlabel(\"Payment value\")\n",
    "plt.ylabel(\"Counts\")\n",
    "plt.title(\"Histogram of payments values (cut at 95th quantile)\")"
   ]
  },
  {
   "cell_type": "code",
   "execution_count": null,
   "metadata": {},
   "outputs": [],
   "source": [
    "fig, ax = plt.subplots(figsize=(9, 8), subplot_kw=dict(aspect=\"equal\"))\n",
    "explode = (0.1, 0, 0, 0)\n",
    "colors = ['#f45a5a', '#449dfc', '#93f96d', '#f9c86d']\n",
    "legend = [\"Credit Card\", \"Boleto\", \"Voucher\", \"Debit Card\"]\n",
    "\n",
    "p = order_payments[\"payment_type\"][order_payments[\"payment_type\"] != \"not_defined\"].value_counts()\n",
    "p.plot(kind=\"pie\", legend=False, labels=None, startangle=0, explode=explode, autopct='%1.0f%%', pctdistance=0.6, shadow=True, textprops={'weight':'bold', 'fontsize':16}, \n",
    "       colors=colors, ax=ax)\n",
    "ax.legend(legend, loc='best', shadow=True, prop={'weight':'bold', 'size':12}, bbox_to_anchor=(0.6, 0, 0.5,1))\n",
    "plt.title(\"Paymement methods\", fontweight='bold', size=16)\n",
    "plt.ylabel(\"\")"
   ]
  },
  {
   "cell_type": "markdown",
   "metadata": {},
   "source": [
    "### Delivery time"
   ]
  },
  {
   "cell_type": "code",
   "execution_count": null,
   "metadata": {},
   "outputs": [],
   "source": [
    "# Data preparation\n",
    "def convert(db,columns_list):\n",
    "    for column in columns_list:\n",
    "        db[column] = pd.to_datetime(db[column])\n",
    "\n",
    "orders_mod = orders.copy()\n",
    "cols = ['order_purchase_timestamp','order_approved_at','order_delivered_carrier_date','order_delivered_customer_date','order_estimated_delivery_date']\n",
    "\n",
    "convert(orders_mod,cols)\n",
    "orders_mod['delivery_time'] = orders_mod['order_delivered_carrier_date'] - orders_mod['order_purchase_timestamp']\n",
    "q95 = orders_mod['delivery_time'].quantile(.95)\n",
    "\n",
    "delivered = orders_mod[orders_mod[\"order_status\"]==\"delivered\"]\n",
    "delivered.set_index(delivered['order_purchase_timestamp'], inplace = True)\n",
    "\n",
    "delivered = delivered.sort_index()\n",
    "delivered[\"dts\"] = delivered[\"delivery_time\"].dt.total_seconds()\n",
    "delivered = delivered[\"dts\"].resample(\"D\").mean()\n",
    "delivered = round(delivered/86400,2)\n",
    "delivered = delivered[delivered<8]\n",
    "print(delivered.describe())\n",
    "m_del = delivered.mean()"
   ]
  },
  {
   "cell_type": "code",
   "execution_count": null,
   "metadata": {},
   "outputs": [],
   "source": [
    "ax = delivered.plot(figsize=(16,8))\n",
    "plt.axhline(m_del,color=\"k\",linestyle='--')\n",
    "plt.xlabel(\"Date\")\n",
    "plt.ylabel(\"Mean delivery time in days\")\n",
    "ax.xaxis.set_major_locator(mdates.MonthLocator(interval=1))"
   ]
  },
  {
   "cell_type": "code",
   "execution_count": null,
   "metadata": {},
   "outputs": [],
   "source": [
    "products.head()"
   ]
  },
  {
   "cell_type": "code",
   "execution_count": null,
   "metadata": {},
   "outputs": [],
   "source": [
    "products.head()"
   ]
  },
  {
   "cell_type": "markdown",
   "metadata": {},
   "source": [
    "### Sellers"
   ]
  },
  {
   "cell_type": "code",
   "execution_count": null,
   "metadata": {},
   "outputs": [],
   "source": [
    "temp_sellers = sellers.merge(geolocation, left_on= sellers['seller_zip_code_prefix'], \n",
    "                             right_on = geolocation['geolocation_zip_code_prefix'], how = 'inner')"
   ]
  },
  {
   "cell_type": "code",
   "execution_count": null,
   "metadata": {},
   "outputs": [],
   "source": [
    "len(sellers)==len(sellers['seller_id'].unique()) #make sure that the seller_id only contains unique values"
   ]
  },
  {
   "cell_type": "code",
   "execution_count": null,
   "metadata": {},
   "outputs": [],
   "source": [
    "item_prod = items.merge(products, left_on = items['order_id'],\n",
    "                       right_on = products['product_id'], how = 'inner')"
   ]
  },
  {
   "cell_type": "code",
   "execution_count": null,
   "metadata": {},
   "outputs": [],
   "source": [
    "temp_sellers.head()"
   ]
  },
  {
   "cell_type": "code",
   "execution_count": null,
   "metadata": {},
   "outputs": [],
   "source": [
    "plt.figure(figsize=(10,5))\n",
    "sns.barplot(y=sellers['seller_state'].value_counts().values,x=sellers['seller_state'].value_counts().index)\n",
    "plt.xlabel('States')\n",
    "plt.ylabel('No of Sellers')\n",
    "plt.title('Sellers per State')\n",
    "z=plt.xticks(rotation=90)"
   ]
  },
  {
   "cell_type": "code",
   "execution_count": null,
   "metadata": {},
   "outputs": [],
   "source": [
    "X=pd.to_datetime(orders['order_delivered_customer_date'])-pd.to_datetime(orders['order_purchase_timestamp'])"
   ]
  },
  {
   "cell_type": "code",
   "execution_count": null,
   "metadata": {},
   "outputs": [],
   "source": [
    "for i in range(0,len(X)):\n",
    "    X[i]=X[i].days"
   ]
  },
  {
   "cell_type": "code",
   "execution_count": null,
   "metadata": {},
   "outputs": [],
   "source": [
    "plt.figure(figsize=(10,5))\n",
    "sns.barplot(x=X.value_counts().sort_values(ascending=False).head(30).index,y=X.value_counts().sort_values(ascending=False).head(30).values)\n",
    "plt.xlabel('Deleivery Days')\n",
    "plt.ylabel('Frequency')"
   ]
  },
  {
   "cell_type": "code",
   "execution_count": null,
   "metadata": {},
   "outputs": [],
   "source": [
    "p_5s = len(order_reviews[order_reviews['review_score'] == 5]) * 100 / len(order_reviews)\n",
    "p_1s = len(order_reviews[order_reviews['review_score'] == 1]) * 100 / len(order_reviews)\n",
    "first_dt = order_reviews['review_creation_date'].min()\n",
    "last_dt = order_reviews['review_creation_date'].max()\n",
    "avg_s = order_reviews['review_score'].mean()\n",
    "print(len(order_reviews), 'reviews')\n",
    "print('First:', first_dt)\n",
    "print('Last:', last_dt)\n",
    "print(f'5: {p_5s:.1f}%')\n",
    "print(f'1: {p_1s:.1f}%')\n",
    "print(f'Average: {avg_s:.1f}')"
   ]
  },
  {
   "cell_type": "code",
   "execution_count": null,
   "metadata": {},
   "outputs": [],
   "source": [
    " sns.catplot(\n",
    "    x='review_score', \n",
    "    kind='count', \n",
    "    data=order_reviews, \n",
    "   \n",
    ").set(\n",
    "    xlabel='Review Score', \n",
    "    ylabel='Number of Reviews',\n",
    ");"
   ]
  },
  {
   "cell_type": "code",
   "execution_count": null,
   "metadata": {},
   "outputs": [],
   "source": [
    "order_reviews.head()"
   ]
  },
  {
   "cell_type": "code",
   "execution_count": null,
   "metadata": {},
   "outputs": [],
   "source": [
    "sellers.head()"
   ]
  },
  {
   "cell_type": "code",
   "execution_count": null,
   "metadata": {},
   "outputs": [],
   "source": [
    "product_category_name_translation.head()"
   ]
  },
  {
   "cell_type": "code",
   "execution_count": null,
   "metadata": {},
   "outputs": [],
   "source": [
    "order_by_category = product_category_name_translation.groupby('product_category_name_english').size().reset_index(name='total_orders')\n",
    "order_by_category_top10 = order_by_category.sort_values(by='total_orders', ascending=False).head(10)"
   ]
  },
  {
   "cell_type": "code",
   "execution_count": null,
   "metadata": {},
   "outputs": [],
   "source": [
    "order_by_category_top10"
   ]
  },
  {
   "cell_type": "code",
   "execution_count": null,
   "metadata": {},
   "outputs": [],
   "source": [
    "orders.head()"
   ]
  },
  {
   "cell_type": "code",
   "execution_count": null,
   "metadata": {},
   "outputs": [],
   "source": [
    "orders.head()"
   ]
  },
  {
   "cell_type": "code",
   "execution_count": null,
   "metadata": {},
   "outputs": [],
   "source": [
    "products = products.dropna(how = 'any')\n",
    "#product_name_lenght\tproduct_description_lenght\tproduct_photos_qty\n",
    "fig, axis = plt.subplots(1, 2, figsize=(12,4))\n",
    "axis[0].set_title(\"Product name lenght\")\n",
    "axis[1].set_title(\"Product description lenght\")\n",
    "ax1 = sns.distplot(products['product_name_lenght'], color=\"#D84E30\", ax=axis[0]) #rgba(204,204,204,1)', 'rgba(222,45,38,0.8)'\n",
    "ax2 = sns.distplot(products['product_description_lenght'], color=\"#7E7270\", ax=axis[1]) #\"#D84E30\""
   ]
  },
  {
   "cell_type": "code",
   "execution_count": null,
   "metadata": {},
   "outputs": [],
   "source": [
    "# Convert columns to datetime\n",
    "orders['order_purchase_timestamp'] = pd.to_datetime(orders['order_purchase_timestamp'])\n",
    "orders['order_aproved_at'] = pd.to_datetime(orders['order_approved_at'])\n",
    "orders['order_estimated_delivery_date'] = pd.to_datetime(orders['order_estimated_delivery_date'])\n",
    "orders['order_delivered_customer_date'] = pd.to_datetime(orders['order_delivered_customer_date'])\n",
    "# Calculate differences in hours\n",
    "orders['delivery_time'] = (orders['order_delivered_customer_date'] - orders['order_aproved_at']).dt.total_seconds() / 86400\n",
    "orders['estimated_delivery_time'] = (orders['order_estimated_delivery_date'] - orders['order_aproved_at']).dt.total_seconds() / 86400\n",
    "# Delivery estimated time and actual delivery time\n",
    "plt.figure(figsize=(10,4))\n",
    "plt.title(\"Delivery time in days\")\n",
    "ax1 = sns.kdeplot(orders['delivery_time'].dropna(), color=\"#D84E30\", label='Delivery time')\n",
    "ax2 = sns.kdeplot(orders['estimated_delivery_time'].dropna(), color=\"#7E7270\", label='Estimated delivery time')"
   ]
  },
  {
   "cell_type": "code",
   "execution_count": null,
   "metadata": {},
   "outputs": [],
   "source": [
    "geolocation.head()"
   ]
  },
  {
   "cell_type": "code",
   "execution_count": null,
   "metadata": {},
   "outputs": [],
   "source": []
  }
 ],
 "metadata": {
  "kernelspec": {
   "display_name": "Python 3",
   "language": "python",
   "name": "python3"
  },
  "language_info": {
   "codemirror_mode": {
    "name": "ipython",
    "version": 3
   },
   "file_extension": ".py",
   "mimetype": "text/x-python",
   "name": "python",
   "nbconvert_exporter": "python",
   "pygments_lexer": "ipython3",
   "version": "3.7.3"
  }
 },
 "nbformat": 4,
 "nbformat_minor": 2
}
